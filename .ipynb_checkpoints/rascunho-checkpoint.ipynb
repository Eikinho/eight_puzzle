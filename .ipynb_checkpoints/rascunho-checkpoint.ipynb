{
 "cells": [
  {
   "cell_type": "code",
   "execution_count": 1,
   "metadata": {},
   "outputs": [],
   "source": [
    "import numpy as np"
   ]
  },
  {
   "cell_type": "code",
   "execution_count": 50,
   "metadata": {},
   "outputs": [],
   "source": []
  },
  {
   "cell_type": "code",
   "execution_count": 60,
   "metadata": {},
   "outputs": [],
   "source": [
    "def get_empty(matrix):\n",
    "    for i in range(matrix.shape[0]):\n",
    "        for j in range(matrix.shape[0]):\n",
    "            if matrix[i][j] == 0:\n",
    "                return (i, j)"
   ]
  },
  {
   "cell_type": "code",
   "execution_count": 76,
   "metadata": {},
   "outputs": [
    {
     "name": "stdout",
     "output_type": "stream",
     "text": [
      "[[1 2 3]\n",
      " [4 0 5]\n",
      " [7 8 6]]\n",
      "---------\n",
      "UP\n",
      "[[1 0 3]\n",
      " [4 2 5]\n",
      " [7 8 6]]\n",
      "DOWN\n",
      "[[1 2 3]\n",
      " [4 8 5]\n",
      " [7 0 6]]\n",
      "LEFT\n",
      "[[1 2 3]\n",
      " [0 4 5]\n",
      " [7 8 6]]\n",
      "RIGHT\n",
      "[[1 2 3]\n",
      " [4 5 0]\n",
      " [7 8 6]]\n"
     ]
    }
   ],
   "source": [
    "matrix = np.array([[1, 2, 3],\n",
    "                 [4, 0, 5],\n",
    "                 [7, 8, 6]])\n",
    "\n",
    "def successors(matrix):\n",
    "    i,j = get_empty(matrix)\n",
    "    print(matrix)\n",
    "    print(\"---------\")\n",
    "    \n",
    "    if i > 0:\n",
    "        print(\"UP\")\n",
    "        tmp = matrix.copy()\n",
    "        tmp_value = tmp[i-1][j]\n",
    "        tmp[i-1][j] = tmp[i][j]\n",
    "        tmp[i][j] = tmp_value\n",
    "        print(tmp)\n",
    "        \n",
    "    if i < matrix.shape[0] - 1:\n",
    "        print(\"DOWN\")\n",
    "        tmp = matrix.copy()\n",
    "        tmp_value = tmp[i+1][j]\n",
    "        tmp[i+1][j] = tmp[i][j]\n",
    "        tmp[i][j] = tmp_value\n",
    "        print(tmp)\n",
    "        \n",
    "    if j > 0:\n",
    "        print('LEFT')\n",
    "        tmp = matrix.copy()\n",
    "        tmp_value = tmp[i][j-1]\n",
    "        tmp[i][j-1] = tmp[i][j]\n",
    "        tmp[i][j] = tmp_value\n",
    "        print(tmp)\n",
    "        \n",
    "    if j < matrix.shape[0] - 1:\n",
    "        print(\"RIGHT\")\n",
    "        tmp = matrix.copy()\n",
    "        tmp_value = tmp[i][j+1]\n",
    "        tmp[i][j+1] = tmp[i][j]\n",
    "        tmp[i][j] = tmp_value\n",
    "        print(tmp)\n",
    "\n",
    "    \n",
    "    \n",
    "successors(matrix)"
   ]
  },
  {
   "cell_type": "code",
   "execution_count": 78,
   "metadata": {},
   "outputs": [
    {
     "ename": "NameError",
     "evalue": "name 'array' is not defined",
     "output_type": "error",
     "traceback": [
      "\u001b[0;31m---------------------------------------------------------------------------\u001b[0m",
      "\u001b[0;31mNameError\u001b[0m                                 Traceback (most recent call last)",
      "\u001b[0;32m<ipython-input-78-463155bc83bc>\u001b[0m in \u001b[0;36m<module>\u001b[0;34m\u001b[0m\n\u001b[0;32m----> 1\u001b[0;31m matrix == array([[1, 2, 3],\n\u001b[0m\u001b[1;32m      2\u001b[0m        \u001b[0;34m[\u001b[0m\u001b[0;36m4\u001b[0m\u001b[0;34m,\u001b[0m \u001b[0;36m0\u001b[0m\u001b[0;34m,\u001b[0m \u001b[0;36m5\u001b[0m\u001b[0;34m]\u001b[0m\u001b[0;34m,\u001b[0m\u001b[0;34m\u001b[0m\u001b[0;34m\u001b[0m\u001b[0m\n\u001b[1;32m      3\u001b[0m        [7, 8, 6]])\n",
      "\u001b[0;31mNameError\u001b[0m: name 'array' is not defined"
     ]
    }
   ],
   "source": [
    "matrix == np;.array([[1, 2, 3],\n",
    "       [4, 0, 5],\n",
    "       [7, 8, 6]])"
   ]
  },
  {
   "cell_type": "code",
   "execution_count": null,
   "metadata": {},
   "outputs": [],
   "source": [
    "matrix"
   ]
  }
 ],
 "metadata": {
  "kernelspec": {
   "display_name": "Python 3",
   "language": "python",
   "name": "python3"
  },
  "language_info": {
   "codemirror_mode": {
    "name": "ipython",
    "version": 3
   },
   "file_extension": ".py",
   "mimetype": "text/x-python",
   "name": "python",
   "nbconvert_exporter": "python",
   "pygments_lexer": "ipython3",
   "version": "3.8.10"
  }
 },
 "nbformat": 4,
 "nbformat_minor": 4
}
