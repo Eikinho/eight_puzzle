{
 "cells": [
  {
   "cell_type": "code",
   "execution_count": 1,
   "metadata": {},
   "outputs": [],
   "source": [
    "import numpy as np"
   ]
  },
  {
   "cell_type": "code",
   "execution_count": 50,
   "metadata": {},
   "outputs": [],
   "source": []
  },
  {
   "cell_type": "code",
   "execution_count": 60,
   "metadata": {},
   "outputs": [],
   "source": [
    "def get_empty(matrix):\n",
    "    for i in range(matrix.shape[0]):\n",
    "        for j in range(matrix.shape[0]):\n",
    "            if matrix[i][j] == 0:\n",
    "                return (i, j)"
   ]
  },
  {
   "cell_type": "code",
   "execution_count": 76,
   "metadata": {},
   "outputs": [
    {
     "name": "stdout",
     "output_type": "stream",
     "text": [
      "[[1 2 3]\n",
      " [4 0 5]\n",
      " [7 8 6]]\n",
      "---------\n",
      "UP\n",
      "[[1 0 3]\n",
      " [4 2 5]\n",
      " [7 8 6]]\n",
      "DOWN\n",
      "[[1 2 3]\n",
      " [4 8 5]\n",
      " [7 0 6]]\n",
      "LEFT\n",
      "[[1 2 3]\n",
      " [0 4 5]\n",
      " [7 8 6]]\n",
      "RIGHT\n",
      "[[1 2 3]\n",
      " [4 5 0]\n",
      " [7 8 6]]\n"
     ]
    }
   ],
   "source": [
    "matrix = np.array([[1, 2, 3],\n",
    "                 [4, 0, 5],\n",
    "                 [7, 8, 6]])\n",
    "\n",
    "def successors(matrix):\n",
    "    i,j = get_empty(matrix)\n",
    "    print(matrix)\n",
    "    print(\"---------\")\n",
    "    \n",
    "    if i > 0:\n",
    "        print(\"UP\")\n",
    "        tmp = matrix.copy()\n",
    "        tmp_value = tmp[i-1][j]\n",
    "        tmp[i-1][j] = tmp[i][j]\n",
    "        tmp[i][j] = tmp_value\n",
    "        print(tmp)\n",
    "        \n",
    "    if i < matrix.shape[0] - 1:\n",
    "        print(\"DOWN\")\n",
    "        tmp = matrix.copy()\n",
    "        tmp_value = tmp[i+1][j]\n",
    "        tmp[i+1][j] = tmp[i][j]\n",
    "        tmp[i][j] = tmp_value\n",
    "        print(tmp)\n",
    "        \n",
    "    if j > 0:\n",
    "        print('LEFT')\n",
    "        tmp = matrix.copy()\n",
    "        tmp_value = tmp[i][j-1]\n",
    "        tmp[i][j-1] = tmp[i][j]\n",
    "        tmp[i][j] = tmp_value\n",
    "        print(tmp)\n",
    "        \n",
    "    if j < matrix.shape[0] - 1:\n",
    "        print(\"RIGHT\")\n",
    "        tmp = matrix.copy()\n",
    "        tmp_value = tmp[i][j+1]\n",
    "        tmp[i][j+1] = tmp[i][j]\n",
    "        tmp[i][j] = tmp_value\n",
    "        print(tmp)\n",
    "\n",
    "    \n",
    "    \n",
    "successors(matrix)"
   ]
  },
  {
   "cell_type": "code",
   "execution_count": 80,
   "metadata": {},
   "outputs": [
    {
     "data": {
      "text/plain": [
       "array([[1, 2, 3],\n",
       "       [4, 0, 5],\n",
       "       [7, 8, 6]])"
      ]
     },
     "execution_count": 80,
     "metadata": {},
     "output_type": "execute_result"
    }
   ],
   "source": [
    "matrix"
   ]
  },
  {
   "cell_type": "code",
   "execution_count": 83,
   "metadata": {},
   "outputs": [
    {
     "name": "stdout",
     "output_type": "stream",
     "text": [
      "Not Solvable\n"
     ]
    }
   ],
   "source": [
    "def getInvCount(arr):\n",
    "    inv_count = 0\n",
    "    empty_value = -1\n",
    "    for i in range(0, 9):\n",
    "        for j in range(i + 1, 9):\n",
    "            if arr[j] != empty_value and arr[i] != empty_value and arr[i] > arr[j]:\n",
    "                inv_count += 1\n",
    "    return inv_count\n",
    " \n",
    "     \n",
    "# This function returns true\n",
    "# if given 8 puzzle is solvable.\n",
    "def isSolvable(puzzle) :\n",
    " \n",
    "    # Count inversions in given 8 puzzle\n",
    "    inv_count = getInvCount([j for sub in puzzle for j in sub])\n",
    " \n",
    "    # return true if inversion count is even.\n",
    "    return (inv_count % 2 == 0)\n",
    "     \n",
    "    # Driver code\n",
    "puzzle = [[8, 1, 2],[-1, 4, 3],[7, 6, 5]]\n",
    "\n",
    "if(isSolvable(puzzle)) :\n",
    "    print(\"Solvable\")\n",
    "else :\n",
    "    print(\"Not Solvable\")"
   ]
  },
  {
   "cell_type": "code",
   "execution_count": 91,
   "metadata": {},
   "outputs": [
    {
     "data": {
      "text/plain": [
       "[1, 2, 3, 4, 0, 5, 7, 8, 6]"
      ]
     },
     "execution_count": 91,
     "metadata": {},
     "output_type": "execute_result"
    }
   ],
   "source": [
    "l = list(matrix.flatten())"
   ]
  },
  {
   "cell_type": "code",
   "execution_count": 92,
   "metadata": {},
   "outputs": [],
   "source": [
    "for i in range(len(l)):\n",
    "    l[i] = int(l[i])"
   ]
  },
  {
   "cell_type": "code",
   "execution_count": null,
   "metadata": {},
   "outputs": [],
   "source": []
  }
 ],
 "metadata": {
  "kernelspec": {
   "display_name": "Python 3",
   "language": "python",
   "name": "python3"
  },
  "language_info": {
   "codemirror_mode": {
    "name": "ipython",
    "version": 3
   },
   "file_extension": ".py",
   "mimetype": "text/x-python",
   "name": "python",
   "nbconvert_exporter": "python",
   "pygments_lexer": "ipython3",
   "version": "3.8.10"
  }
 },
 "nbformat": 4,
 "nbformat_minor": 4
}
